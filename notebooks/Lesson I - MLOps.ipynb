{
 "cells": [
  {
   "cell_type": "markdown",
   "id": "6b8cec0c",
   "metadata": {},
   "source": []
  },
  {
   "cell_type": "markdown",
   "id": "37d4bf84",
   "metadata": {},
   "source": [
    "# Intro to MLFlow I"
   ]
  },
  {
   "cell_type": "markdown",
   "id": "6ad2faac",
   "metadata": {},
   "source": [
    "Learn how to:\n",
    "\n",
    "- Install MLFlow\n",
    "- Run MLFlow Server\n",
    "- Log parameters, metrics and artifacts"
   ]
  },
  {
   "cell_type": "code",
   "execution_count": 3,
   "id": "83fa39a7",
   "metadata": {},
   "outputs": [],
   "source": [
    "import pandas as pd\n",
    "import numpy as np\n",
    "import seaborn as sns\n",
    "import matplotlib.pyplot as plt"
   ]
  },
  {
   "cell_type": "code",
   "execution_count": 2,
   "id": "0e76cba5",
   "metadata": {},
   "outputs": [],
   "source": [
    "import mlflow"
   ]
  },
  {
   "cell_type": "code",
   "execution_count": 6,
   "id": "3e19172a",
   "metadata": {},
   "outputs": [],
   "source": [
    "MLFLOW_TRACKING_URL = \"http://127.0.0.1:5000\"\n",
    "\n",
    "mlflow.set_tracking_uri(MLFLOW_TRACKING_URL)"
   ]
  },
  {
   "cell_type": "code",
   "execution_count": 7,
   "id": "8e83f32e",
   "metadata": {},
   "outputs": [],
   "source": [
    "# if not working this will raise an exception\n",
    "experiments = mlflow.search_experiments()"
   ]
  },
  {
   "cell_type": "code",
   "execution_count": 9,
   "id": "f6468740",
   "metadata": {},
   "outputs": [
    {
     "data": {
      "text/plain": [
       "1"
      ]
     },
     "execution_count": 9,
     "metadata": {},
     "output_type": "execute_result"
    }
   ],
   "source": [
    "len(experiments)"
   ]
  },
  {
   "cell_type": "markdown",
   "id": "1dd0a224",
   "metadata": {},
   "source": [
    "## Connect to Experiment"
   ]
  },
  {
   "cell_type": "code",
   "execution_count": 11,
   "id": "25e84aa9",
   "metadata": {},
   "outputs": [
    {
     "name": "stderr",
     "output_type": "stream",
     "text": [
      "2025/06/16 12:58:39 INFO mlflow.tracking.fluent: Experiment with name 'EXPERIMENT_NAME' does not exist. Creating a new experiment.\n"
     ]
    },
    {
     "data": {
      "text/plain": [
       "<Experiment: artifact_location='mlflow-artifacts:/209005185598130493', creation_time=1750071519444, experiment_id='209005185598130493', last_update_time=1750071519444, lifecycle_stage='active', name='EXPERIMENT_NAME', tags={}>"
      ]
     },
     "execution_count": 11,
     "metadata": {},
     "output_type": "execute_result"
    }
   ],
   "source": [
    "EXPERIMENT_NAME = \"My Experiment\"\n",
    "\n",
    "mlflow.set_experiment(\"EXPERIMENT_NAME\")"
   ]
  },
  {
   "cell_type": "markdown",
   "id": "b902bba8",
   "metadata": {},
   "source": [
    "## Create my first run"
   ]
  },
  {
   "cell_type": "code",
   "execution_count": 13,
   "id": "0783c7e1",
   "metadata": {},
   "outputs": [
    {
     "name": "stdout",
     "output_type": "stream",
     "text": [
      "🏃 View run likeable-hen-661 at: http://127.0.0.1:5000/#/experiments/209005185598130493/runs/d41bd69bfdcf45e2883737ec9287bafb\n",
      "🧪 View experiment at: http://127.0.0.1:5000/#/experiments/209005185598130493\n"
     ]
    }
   ],
   "source": [
    "with mlflow.start_run():\n",
    "\n",
    "    # train the model\n",
    "    # log parameters, metrics and artifacts\n",
    "   \n",
    "    pass"
   ]
  },
  {
   "cell_type": "markdown",
   "id": "cbde51c3",
   "metadata": {},
   "source": [
    "### Log Data into MLFlow"
   ]
  },
  {
   "cell_type": "markdown",
   "id": "9a4df889",
   "metadata": {},
   "source": [
    "### Log tags"
   ]
  },
  {
   "cell_type": "code",
   "execution_count": 15,
   "id": "aa52f596",
   "metadata": {},
   "outputs": [
    {
     "name": "stdout",
     "output_type": "stream",
     "text": [
      "🏃 View run awesome-carp-693 at: http://127.0.0.1:5000/#/experiments/209005185598130493/runs/de4230bad28c4c169fab8ce5c38a18e4\n",
      "🧪 View experiment at: http://127.0.0.1:5000/#/experiments/209005185598130493\n"
     ]
    }
   ],
   "source": [
    "with mlflow.start_run():\n",
    "    mlflow.set_tag(\"Model name\", \"Decision Tree\")\n",
    "    mlflow.set_tag(\"Author\", \"Roger\")"
   ]
  },
  {
   "cell_type": "markdown",
   "id": "76c9ba17",
   "metadata": {},
   "source": [
    "### Log Parameters"
   ]
  },
  {
   "cell_type": "code",
   "execution_count": 16,
   "id": "de962413",
   "metadata": {},
   "outputs": [
    {
     "name": "stdout",
     "output_type": "stream",
     "text": [
      "🏃 View run peaceful-skunk-800 at: http://127.0.0.1:5000/#/experiments/209005185598130493/runs/b0a2f22122454d859d69b26b103b5b7d\n",
      "🧪 View experiment at: http://127.0.0.1:5000/#/experiments/209005185598130493\n"
     ]
    }
   ],
   "source": [
    "with mlflow.start_run():\n",
    "    mlflow.log_param(\"Test Size\", 0.2) "
   ]
  },
  {
   "cell_type": "markdown",
   "id": "5679d94b",
   "metadata": {},
   "source": [
    "#### Log Metrics"
   ]
  },
  {
   "cell_type": "code",
   "execution_count": 17,
   "id": "d846d34e",
   "metadata": {},
   "outputs": [
    {
     "name": "stdout",
     "output_type": "stream",
     "text": [
      "🏃 View run unleashed-calf-336 at: http://127.0.0.1:5000/#/experiments/209005185598130493/runs/98038a85651a4c069f3f21af6e1957a5\n",
      "🧪 View experiment at: http://127.0.0.1:5000/#/experiments/209005185598130493\n"
     ]
    }
   ],
   "source": [
    "with mlflow.start_run():\n",
    "    mlflow.log_metric(\"Accuracy\", 0.95)"
   ]
  },
  {
   "cell_type": "code",
   "execution_count": null,
   "id": "c8aca670",
   "metadata": {},
   "outputs": [
    {
     "name": "stdout",
     "output_type": "stream",
     "text": [
      "🏃 View run unequaled-mouse-377 at: http://127.0.0.1:5000/#/experiments/209005185598130493/runs/4728ea65fbfd4ab5b0cb4ba6ef09c861\n",
      "🧪 View experiment at: http://127.0.0.1:5000/#/experiments/209005185598130493\n"
     ]
    }
   ],
   "source": [
    "TEST_SIZE = 0.3\n",
    "MODEL = \"Decision Tree\"\n",
    "\n",
    "with mlflow.start_run():\n",
    "    mlflow.set_tag(\"Model name\", MODEL)\n",
    "\n",
    "    mlflow.log_param(\"Test Size\", TEST_SIZE)\n",
    "    # train your model here\n",
    "    # model.fit(X_train, y_train)\n",
    "    # y_pred = model.predic(X_test)\n",
    "    # acc = accuracy_score(y_test, y_pred)\n",
    "    acc = 0.95\n",
    "    mlflow.log_metric(\"Accuracy\", acc)"
   ]
  },
  {
   "cell_type": "code",
   "execution_count": null,
   "id": "395f24ec",
   "metadata": {},
   "outputs": [],
   "source": []
  }
 ],
 "metadata": {
  "kernelspec": {
   "display_name": "base",
   "language": "python",
   "name": "python3"
  },
  "language_info": {
   "codemirror_mode": {
    "name": "ipython",
    "version": 3
   },
   "file_extension": ".py",
   "mimetype": "text/x-python",
   "name": "python",
   "nbconvert_exporter": "python",
   "pygments_lexer": "ipython3",
   "version": "3.12.7"
  }
 },
 "nbformat": 4,
 "nbformat_minor": 5
}
